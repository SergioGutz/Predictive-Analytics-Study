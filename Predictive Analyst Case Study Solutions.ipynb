{
 "cells": [
  {
   "cell_type": "markdown",
   "metadata": {},
   "source": [
    "# Predictive Analyst Case Study\n",
    "## Section 1- Insights \n",
    "+ We are in Feb 2017. Using the data attached seeing lower revenue in “skills test insight dataset”, can you see if that’s a valid concern? \n",
    "+ What other insights and suggestions can you extract from this dataset?\n",
    "+ What do you think March 2017’s revenue will be?\n",
    "+ Also, what KPI would you suggest for the product manager to monitor moving forward?"
   ]
  },
  {
   "cell_type": "code",
   "execution_count": 1,
   "metadata": {},
   "outputs": [
    {
     "data": {
      "text/html": [
       "<div>\n",
       "<style scoped>\n",
       "    .dataframe tbody tr th:only-of-type {\n",
       "        vertical-align: middle;\n",
       "    }\n",
       "\n",
       "    .dataframe tbody tr th {\n",
       "        vertical-align: top;\n",
       "    }\n",
       "\n",
       "    .dataframe thead th {\n",
       "        text-align: right;\n",
       "    }\n",
       "</style>\n",
       "<table border=\"1\" class=\"dataframe\">\n",
       "  <thead>\n",
       "    <tr style=\"text-align: right;\">\n",
       "      <th></th>\n",
       "      <th>date</th>\n",
       "      <th>device</th>\n",
       "      <th>landing_page</th>\n",
       "      <th>landing_pageviews</th>\n",
       "      <th>checkout_pageviews</th>\n",
       "      <th>thankyou_pageviews</th>\n",
       "      <th>revenue</th>\n",
       "    </tr>\n",
       "  </thead>\n",
       "  <tbody>\n",
       "    <tr>\n",
       "      <th>0</th>\n",
       "      <td>2017-01-01</td>\n",
       "      <td>Desktop</td>\n",
       "      <td>Home</td>\n",
       "      <td>1106</td>\n",
       "      <td>147</td>\n",
       "      <td>33</td>\n",
       "      <td>1110</td>\n",
       "    </tr>\n",
       "    <tr>\n",
       "      <th>1</th>\n",
       "      <td>2017-01-02</td>\n",
       "      <td>Desktop</td>\n",
       "      <td>Home</td>\n",
       "      <td>1214</td>\n",
       "      <td>181</td>\n",
       "      <td>37</td>\n",
       "      <td>1110</td>\n",
       "    </tr>\n",
       "    <tr>\n",
       "      <th>2</th>\n",
       "      <td>2017-01-03</td>\n",
       "      <td>Desktop</td>\n",
       "      <td>Home</td>\n",
       "      <td>1265</td>\n",
       "      <td>189</td>\n",
       "      <td>39</td>\n",
       "      <td>1131</td>\n",
       "    </tr>\n",
       "    <tr>\n",
       "      <th>3</th>\n",
       "      <td>2017-01-04</td>\n",
       "      <td>Desktop</td>\n",
       "      <td>Home</td>\n",
       "      <td>1232</td>\n",
       "      <td>185</td>\n",
       "      <td>38</td>\n",
       "      <td>1064</td>\n",
       "    </tr>\n",
       "    <tr>\n",
       "      <th>4</th>\n",
       "      <td>2017-01-05</td>\n",
       "      <td>Desktop</td>\n",
       "      <td>Home</td>\n",
       "      <td>1254</td>\n",
       "      <td>188</td>\n",
       "      <td>37</td>\n",
       "      <td>1170</td>\n",
       "    </tr>\n",
       "  </tbody>\n",
       "</table>\n",
       "</div>"
      ],
      "text/plain": [
       "        date   device  landing_page  landing_pageviews  checkout_pageviews  \\\n",
       "0 2017-01-01  Desktop          Home               1106                 147   \n",
       "1 2017-01-02  Desktop          Home               1214                 181   \n",
       "2 2017-01-03  Desktop          Home               1265                 189   \n",
       "3 2017-01-04  Desktop          Home               1232                 185   \n",
       "4 2017-01-05  Desktop          Home               1254                 188   \n",
       "\n",
       "   thankyou_pageviews   revenue   \n",
       "0                   33      1110  \n",
       "1                   37      1110  \n",
       "2                   39      1131  \n",
       "3                   38      1064  \n",
       "4                   37      1170  "
      ]
     },
     "execution_count": 1,
     "metadata": {},
     "output_type": "execute_result"
    }
   ],
   "source": [
    "#Load pandas and dataset\n",
    "import pandas as pd\n",
    "\n",
    "data1 = pd.read_excel('dataset.xlsx', sheet_name='Section 1 Data Set')\n",
    "data1.head()"
   ]
  },
  {
   "cell_type": "code",
   "execution_count": 2,
   "metadata": {},
   "outputs": [
    {
     "name": "stdout",
     "output_type": "stream",
     "text": [
      "<class 'pandas.core.frame.DataFrame'>\n",
      "RangeIndex: 236 entries, 0 to 235\n",
      "Data columns (total 7 columns):\n",
      " #   Column               Non-Null Count  Dtype         \n",
      "---  ------               --------------  -----         \n",
      " 0   date                 236 non-null    datetime64[ns]\n",
      " 1   device               236 non-null    object        \n",
      " 2   landing_page         236 non-null    object        \n",
      " 3   landing_pageviews    236 non-null    int64         \n",
      " 4   checkout_pageviews   236 non-null    int64         \n",
      " 5   thankyou_pageviews   236 non-null    int64         \n",
      " 6   revenue              236 non-null    int64         \n",
      "dtypes: datetime64[ns](1), int64(4), object(2)\n",
      "memory usage: 13.0+ KB\n"
     ]
    }
   ],
   "source": [
    "#Inspect dataset for datatypes and for any missing data points\n",
    "data1.info()"
   ]
  },
  {
   "cell_type": "code",
   "execution_count": 3,
   "metadata": {},
   "outputs": [
    {
     "data": {
      "text/html": [
       "<div>\n",
       "<style scoped>\n",
       "    .dataframe tbody tr th:only-of-type {\n",
       "        vertical-align: middle;\n",
       "    }\n",
       "\n",
       "    .dataframe tbody tr th {\n",
       "        vertical-align: top;\n",
       "    }\n",
       "\n",
       "    .dataframe thead th {\n",
       "        text-align: right;\n",
       "    }\n",
       "</style>\n",
       "<table border=\"1\" class=\"dataframe\">\n",
       "  <thead>\n",
       "    <tr style=\"text-align: right;\">\n",
       "      <th></th>\n",
       "      <th>date</th>\n",
       "      <th>device</th>\n",
       "      <th>landing_page</th>\n",
       "      <th>landing_pageviews</th>\n",
       "      <th>checkout_pageviews</th>\n",
       "      <th>thankyou_pageviews</th>\n",
       "      <th>revenue</th>\n",
       "    </tr>\n",
       "  </thead>\n",
       "  <tbody>\n",
       "    <tr>\n",
       "      <th>0</th>\n",
       "      <td>2017-01</td>\n",
       "      <td>Desktop</td>\n",
       "      <td>Home</td>\n",
       "      <td>1106</td>\n",
       "      <td>147</td>\n",
       "      <td>33</td>\n",
       "      <td>1110</td>\n",
       "    </tr>\n",
       "    <tr>\n",
       "      <th>1</th>\n",
       "      <td>2017-01</td>\n",
       "      <td>Desktop</td>\n",
       "      <td>Home</td>\n",
       "      <td>1214</td>\n",
       "      <td>181</td>\n",
       "      <td>37</td>\n",
       "      <td>1110</td>\n",
       "    </tr>\n",
       "    <tr>\n",
       "      <th>2</th>\n",
       "      <td>2017-01</td>\n",
       "      <td>Desktop</td>\n",
       "      <td>Home</td>\n",
       "      <td>1265</td>\n",
       "      <td>189</td>\n",
       "      <td>39</td>\n",
       "      <td>1131</td>\n",
       "    </tr>\n",
       "    <tr>\n",
       "      <th>3</th>\n",
       "      <td>2017-01</td>\n",
       "      <td>Desktop</td>\n",
       "      <td>Home</td>\n",
       "      <td>1232</td>\n",
       "      <td>185</td>\n",
       "      <td>38</td>\n",
       "      <td>1064</td>\n",
       "    </tr>\n",
       "    <tr>\n",
       "      <th>4</th>\n",
       "      <td>2017-01</td>\n",
       "      <td>Desktop</td>\n",
       "      <td>Home</td>\n",
       "      <td>1254</td>\n",
       "      <td>188</td>\n",
       "      <td>37</td>\n",
       "      <td>1170</td>\n",
       "    </tr>\n",
       "  </tbody>\n",
       "</table>\n",
       "</div>"
      ],
      "text/plain": [
       "      date    device landing_page  landing_pageviews  checkout_pageviews  \\\n",
       "0  2017-01  Desktop          Home               1106                 147   \n",
       "1  2017-01  Desktop          Home               1214                 181   \n",
       "2  2017-01  Desktop          Home               1265                 189   \n",
       "3  2017-01  Desktop          Home               1232                 185   \n",
       "4  2017-01  Desktop          Home               1254                 188   \n",
       "\n",
       "   thankyou_pageviews  revenue  \n",
       "0                  33     1110  \n",
       "1                  37     1110  \n",
       "2                  39     1131  \n",
       "3                  38     1064  \n",
       "4                  37     1170  "
      ]
     },
     "execution_count": 3,
     "metadata": {},
     "output_type": "execute_result"
    }
   ],
   "source": [
    "#Clean data columns of blank spaces and inspect data output\n",
    "data1.columns = data1.columns.str.strip()\n",
    "\n",
    "data1.date = pd.to_datetime(data1.date).dt.to_period('m')\n",
    "\n",
    "data1.head()"
   ]
  },
  {
   "cell_type": "code",
   "execution_count": 4,
   "metadata": {},
   "outputs": [
    {
     "data": {
      "text/html": [
       "<div>\n",
       "<style scoped>\n",
       "    .dataframe tbody tr th:only-of-type {\n",
       "        vertical-align: middle;\n",
       "    }\n",
       "\n",
       "    .dataframe tbody tr th {\n",
       "        vertical-align: top;\n",
       "    }\n",
       "\n",
       "    .dataframe thead th {\n",
       "        text-align: right;\n",
       "    }\n",
       "</style>\n",
       "<table border=\"1\" class=\"dataframe\">\n",
       "  <thead>\n",
       "    <tr style=\"text-align: right;\">\n",
       "      <th></th>\n",
       "      <th>date</th>\n",
       "      <th>device</th>\n",
       "      <th>landing_page</th>\n",
       "      <th>landing_pageviews</th>\n",
       "      <th>checkout_pageviews</th>\n",
       "      <th>thankyou_pageviews</th>\n",
       "      <th>revenue</th>\n",
       "    </tr>\n",
       "  </thead>\n",
       "  <tbody>\n",
       "    <tr>\n",
       "      <th>0</th>\n",
       "      <td>2017-01</td>\n",
       "      <td>Desktop</td>\n",
       "      <td>Home</td>\n",
       "      <td>1106</td>\n",
       "      <td>147</td>\n",
       "      <td>33</td>\n",
       "      <td>1110</td>\n",
       "    </tr>\n",
       "    <tr>\n",
       "      <th>1</th>\n",
       "      <td>2017-01</td>\n",
       "      <td>Desktop</td>\n",
       "      <td>Home</td>\n",
       "      <td>1214</td>\n",
       "      <td>181</td>\n",
       "      <td>37</td>\n",
       "      <td>1110</td>\n",
       "    </tr>\n",
       "    <tr>\n",
       "      <th>2</th>\n",
       "      <td>2017-01</td>\n",
       "      <td>Desktop</td>\n",
       "      <td>Home</td>\n",
       "      <td>1265</td>\n",
       "      <td>189</td>\n",
       "      <td>39</td>\n",
       "      <td>1131</td>\n",
       "    </tr>\n",
       "    <tr>\n",
       "      <th>3</th>\n",
       "      <td>2017-01</td>\n",
       "      <td>Desktop</td>\n",
       "      <td>Home</td>\n",
       "      <td>1232</td>\n",
       "      <td>185</td>\n",
       "      <td>38</td>\n",
       "      <td>1064</td>\n",
       "    </tr>\n",
       "    <tr>\n",
       "      <th>4</th>\n",
       "      <td>2017-01</td>\n",
       "      <td>Desktop</td>\n",
       "      <td>Home</td>\n",
       "      <td>1254</td>\n",
       "      <td>188</td>\n",
       "      <td>37</td>\n",
       "      <td>1170</td>\n",
       "    </tr>\n",
       "  </tbody>\n",
       "</table>\n",
       "</div>"
      ],
      "text/plain": [
       "      date    device landing_page  landing_pageviews  checkout_pageviews  \\\n",
       "0  2017-01  Desktop          Home               1106                 147   \n",
       "1  2017-01  Desktop          Home               1214                 181   \n",
       "2  2017-01  Desktop          Home               1265                 189   \n",
       "3  2017-01  Desktop          Home               1232                 185   \n",
       "4  2017-01  Desktop          Home               1254                 188   \n",
       "\n",
       "   thankyou_pageviews  revenue  \n",
       "0                  33     1110  \n",
       "1                  37     1110  \n",
       "2                  39     1131  \n",
       "3                  38     1064  \n",
       "4                  37     1170  "
      ]
     },
     "execution_count": 4,
     "metadata": {},
     "output_type": "execute_result"
    }
   ],
   "source": [
    "#Create a january dataframe and inspect data output\n",
    "jan = data1.loc[data1.date=='2017-01']\n",
    "\n",
    "jan.head()"
   ]
  },
  {
   "cell_type": "code",
   "execution_count": 8,
   "metadata": {},
   "outputs": [
    {
     "name": "stdout",
     "output_type": "stream",
     "text": [
      "jan 2017 revenue: $84,619\n",
      "feb 2017 revenue: $73,437\n",
      "feb 2017 revenue down -$11,182 versus previous month\n"
     ]
    },
    {
     "data": {
      "image/png": "[encoded data removed]",
      "text/plain": [
       "<Figure size 432x288 with 1 Axes>"
      ]
     },
     "metadata": {
      "needs_background": "light"
     },
     "output_type": "display_data"
    }
   ],
   "source": [
    "#Create a february dataframe and compare its revenue to january\n",
    "feb = data1.loc[data1.date=='2017-02']\n",
    "\n",
    "print(\"jan 2017 revenue:\", \"${:,}\".format(jan.revenue.sum()))\n",
    "print(\"feb 2017 revenue:\", \"${:,}\".format(feb.revenue.sum()))\n",
    "\n",
    "print(\"feb 2017 revenue down\", \"-${:,}\".format(jan.revenue.sum()-feb.revenue.sum()), \"versus previous month\")\n",
    "\n",
    "import matplotlib.pyplot as plt\n",
    "%matplotlib inline\n",
    "import seaborn as sns\n",
    "\n",
    "plt.bar((\"jan\", \"feb\"), (jan.revenue.sum(), feb.revenue.sum()), color=(\"darkblue\", \"darkorange\"))  \n",
    "\n",
    "plt.show()"
   ]
  },
  {
   "cell_type": "markdown",
   "metadata": {},
   "source": [
    "<div class=\"alert alert-success\" role=\"alert\">\n",
    "<strong>We are in Feb 2017. Using the data attached seeing lower revenue in “skills test insight dataset”, can you see if that’s a valid concern?</strong> \n",
    "\n",
    "Yes, it is a concern as revenue for this month is down versus previous month by -$11,182"
   ]
  },
  {
   "cell_type": "code",
   "execution_count": 9,
   "metadata": {},
   "outputs": [
    {
     "data": {
      "text/html": [
       "<div>\n",
       "<style scoped>\n",
       "    .dataframe tbody tr th:only-of-type {\n",
       "        vertical-align: middle;\n",
       "    }\n",
       "\n",
       "    .dataframe tbody tr th {\n",
       "        vertical-align: top;\n",
       "    }\n",
       "\n",
       "    .dataframe thead th {\n",
       "        text-align: right;\n",
       "    }\n",
       "</style>\n",
       "<table border=\"1\" class=\"dataframe\">\n",
       "  <thead>\n",
       "    <tr style=\"text-align: right;\">\n",
       "      <th></th>\n",
       "      <th>landing_pageviews</th>\n",
       "      <th>checkout_pageviews</th>\n",
       "      <th>thankyou_pageviews</th>\n",
       "      <th>revenue</th>\n",
       "    </tr>\n",
       "    <tr>\n",
       "      <th>date</th>\n",
       "      <th></th>\n",
       "      <th></th>\n",
       "      <th></th>\n",
       "      <th></th>\n",
       "    </tr>\n",
       "  </thead>\n",
       "  <tbody>\n",
       "    <tr>\n",
       "      <th>2017-01-01</th>\n",
       "      <td>4709</td>\n",
       "      <td>593</td>\n",
       "      <td>156</td>\n",
       "      <td>2791</td>\n",
       "    </tr>\n",
       "    <tr>\n",
       "      <th>2017-01-02</th>\n",
       "      <td>5217</td>\n",
       "      <td>738</td>\n",
       "      <td>153</td>\n",
       "      <td>2791</td>\n",
       "    </tr>\n",
       "    <tr>\n",
       "      <th>2017-01-03</th>\n",
       "      <td>5357</td>\n",
       "      <td>764</td>\n",
       "      <td>159</td>\n",
       "      <td>2881</td>\n",
       "    </tr>\n",
       "    <tr>\n",
       "      <th>2017-01-04</th>\n",
       "      <td>5404</td>\n",
       "      <td>772</td>\n",
       "      <td>161</td>\n",
       "      <td>2748</td>\n",
       "    </tr>\n",
       "    <tr>\n",
       "      <th>2017-01-05</th>\n",
       "      <td>5199</td>\n",
       "      <td>742</td>\n",
       "      <td>153</td>\n",
       "      <td>2706</td>\n",
       "    </tr>\n",
       "  </tbody>\n",
       "</table>\n",
       "</div>"
      ],
      "text/plain": [
       "            landing_pageviews  checkout_pageviews  thankyou_pageviews  revenue\n",
       "date                                                                          \n",
       "2017-01-01               4709                 593                 156     2791\n",
       "2017-01-02               5217                 738                 153     2791\n",
       "2017-01-03               5357                 764                 159     2881\n",
       "2017-01-04               5404                 772                 161     2748\n",
       "2017-01-05               5199                 742                 153     2706"
      ]
     },
     "execution_count": 9,
     "metadata": {},
     "output_type": "execute_result"
    }
   ],
   "source": [
    "#Create a new dataframe with the datetime column as the index and combine desktop & mobile daily values\n",
    "df1 = pd.read_excel('dataset.xlsx', sheet_name='Section 1 Data Set')\n",
    "df1.columns = df1.columns.str.strip()\n",
    "\n",
    "df1.index = df1.date\n",
    "df1 = df1.drop([\"date\", \"device\", \"landing_page\"], axis=1)\n",
    "\n",
    "df1 = df1.resample('D').agg({\"landing_pageviews\":\"sum\", \"checkout_pageviews\": \"sum\", \"thankyou_pageviews\": \"sum\", \"revenue\": \"sum\"})\n",
    "\n",
    "df1.head()"
   ]
  },
  {
   "cell_type": "code",
   "execution_count": 10,
   "metadata": {},
   "outputs": [
    {
     "data": {
      "image/png": "[encoded data removed]",
      "text/plain": [
       "<Figure size 1440x720 with 4 Axes>"
      ]
     },
     "metadata": {
      "needs_background": "light"
     },
     "output_type": "display_data"
    }
   ],
   "source": [
    "jan_dt = df1[\"2017-01-01\":\"2017-01-31\"]\n",
    "feb_dt = df1[\"2017-02-01\":\"2017-02-28\"]\n",
    "\n",
    "fig, ax = plt.subplots(2, 2, figsize=(20,10))\n",
    "fig.autofmt_xdate()\n",
    "\n",
    "ax[0,0].plot(jan_dt.landing_pageviews)\n",
    "ax[0,0].plot(feb_dt.landing_pageviews)\n",
    "ax[0,0].set_ylabel(\"Landing Pageviews\", size=17)\n",
    "\n",
    "ax[0,1].plot(jan_dt.checkout_pageviews)\n",
    "ax[0,1].plot(feb_dt.checkout_pageviews)\n",
    "ax[0,1].set_ylabel(\"Checkout Pageviews\", size=17)\n",
    "\n",
    "ax[1,0].plot(jan_dt.thankyou_pageviews)\n",
    "ax[1,0].plot(feb_dt.thankyou_pageviews)\n",
    "ax[1,0].set_ylabel(\"Thankyou Pageviews\", size=17)\n",
    "\n",
    "ax[1,1].plot(jan_dt.revenue)\n",
    "ax[1,1].plot(feb_dt.revenue)\n",
    "ax[1,1].set_ylabel(\"Revenue\", size=17)\n",
    "\n",
    "plt.show()"
   ]
  },
  {
   "cell_type": "markdown",
   "metadata": {},
   "source": [
    "<div class=\"alert alert-success\" role=\"alert\">\n",
    "<strong>What other insights and suggestions can you extract from this dataset?</strong> \n",
    "\n",
    "Looking at the daily performance of Desktop and Mobile combined, the data (illustrated above) shows the decline of Feb's landing pageviews, checkout pageviews, and thankyou page views and revenue when compared to those of Jan.  The decline of Feb's metrics is especially noticeable somewhere between early- and mid-Feb where it reaches its lowest point.  While this looks concerning, it would be more informative to compare Feb to its previous yearly performances for a more apples to apples comparison because previous monthly comparisons may be confounded by other variables such as seasonality, marketing campaigns, competitive promotions, post-holiday shopping and other factors alike."
   ]
  },
  {
   "cell_type": "markdown",
   "metadata": {},
   "source": [
    "<div class=\"alert alert-success\" role=\"alert\">\n",
    "<strong>What do you think March 2017’s revenue will be?</strong> \n",
    "\n",
    "March 2017's revenue will likely be higher than that of Feb's as the data (illustrated above) shows gradual growth across all metrics in late Feb.  It is impossible to forecast March 2017's exact revenue because we have a small sample size (two previous months) and the daily view shows how volitale the "
   ]
  },
  {
   "cell_type": "code",
   "execution_count": 27,
   "metadata": {},
   "outputs": [
    {
     "data": {
      "image/png": "[encoded data removed]",
      "text/plain": [
       "<Figure size 1440x576 with 2 Axes>"
      ]
     },
     "metadata": {
      "needs_background": "light"
     },
     "output_type": "display_data"
    }
   ],
   "source": [
    "plt.figure(figsize=(20, 8))\n",
    "\n",
    "sns.heatmap(df1.corr(), center=0, square=True, annot=True, fmt='.01', cmap=\"RdYlGn\")\n",
    "plt.title(\"Correlation Matrix Heatmap of Customer Variables\", size=20);\n",
    "\n",
    "plt.show()"
   ]
  },
  {
   "cell_type": "markdown",
   "metadata": {},
   "source": [
    "<div class=\"alert alert-success\" role=\"alert\">\n",
    "<strong>Also, what KPI would you suggest for the product manager to monitor moving forward?</strong> \n",
    "\n",
    "Using a correlation heatmap (pictured above), I would suggest for the product manager to monitor landing pageviews because it trends the most positively with the other metrics, especially with the checkout pageviews -- which drives consumers to likely complete their online purchases."
   ]
  },
  {
   "cell_type": "markdown",
   "metadata": {},
   "source": [
    "## Section 2- Recommendations\n",
    "+ Please design a process that returns the top 5 recommended practice areas for a given user."
   ]
  },
  {
   "cell_type": "code",
   "execution_count": 47,
   "metadata": {},
   "outputs": [
    {
     "data": {
      "text/html": [
       "<div>\n",
       "<style scoped>\n",
       "    .dataframe tbody tr th:only-of-type {\n",
       "        vertical-align: middle;\n",
       "    }\n",
       "\n",
       "    .dataframe tbody tr th {\n",
       "        vertical-align: top;\n",
       "    }\n",
       "\n",
       "    .dataframe thead th {\n",
       "        text-align: right;\n",
       "    }\n",
       "</style>\n",
       "<table border=\"1\" class=\"dataframe\">\n",
       "  <thead>\n",
       "    <tr style=\"text-align: right;\">\n",
       "      <th></th>\n",
       "      <th>attorney_id</th>\n",
       "      <th>specialty_id</th>\n",
       "    </tr>\n",
       "  </thead>\n",
       "  <tbody>\n",
       "    <tr>\n",
       "      <th>0</th>\n",
       "      <td>100000</td>\n",
       "      <td>218</td>\n",
       "    </tr>\n",
       "    <tr>\n",
       "      <th>1</th>\n",
       "      <td>100001</td>\n",
       "      <td>263</td>\n",
       "    </tr>\n",
       "    <tr>\n",
       "      <th>2</th>\n",
       "      <td>100001</td>\n",
       "      <td>436</td>\n",
       "    </tr>\n",
       "    <tr>\n",
       "      <th>3</th>\n",
       "      <td>100001</td>\n",
       "      <td>218</td>\n",
       "    </tr>\n",
       "    <tr>\n",
       "      <th>4</th>\n",
       "      <td>100001</td>\n",
       "      <td>481</td>\n",
       "    </tr>\n",
       "  </tbody>\n",
       "</table>\n",
       "</div>"
      ],
      "text/plain": [
       "   attorney_id  specialty_id\n",
       "0       100000           218\n",
       "1       100001           263\n",
       "2       100001           436\n",
       "3       100001           218\n",
       "4       100001           481"
      ]
     },
     "execution_count": 47,
     "metadata": {},
     "output_type": "execute_result"
    }
   ],
   "source": [
    "#Load dataset into new dataframe\n",
    "data2 = pd.read_excel('dataset.xlsx', sheet_name='Section 2 Data Set')\n",
    "\n",
    "data2.head()"
   ]
  },
  {
   "cell_type": "code",
   "execution_count": 60,
   "metadata": {},
   "outputs": [
    {
     "name": "stdout",
     "output_type": "stream",
     "text": [
      "<class 'pandas.core.frame.DataFrame'>\n",
      "RangeIndex: 200000 entries, 0 to 199999\n",
      "Data columns (total 2 columns):\n",
      " #   Column        Non-Null Count   Dtype\n",
      "---  ------        --------------   -----\n",
      " 0   attorney_id   200000 non-null  int64\n",
      " 1   specialty_id  200000 non-null  int64\n",
      "dtypes: int64(2)\n",
      "memory usage: 3.1 MB\n"
     ]
    }
   ],
   "source": [
    "#Inspect dataset for any missing data points\n",
    "data2.info()"
   ]
  },
  {
   "cell_type": "code",
   "execution_count": 51,
   "metadata": {},
   "outputs": [
    {
     "data": {
      "text/plain": [
       "39369"
      ]
     },
     "execution_count": 51,
     "metadata": {},
     "output_type": "execute_result"
    }
   ],
   "source": [
    "#Check the unique number of attorney ids in dataset\n",
    "len(data2.attorney_id.unique())"
   ]
  },
  {
   "cell_type": "code",
   "execution_count": 49,
   "metadata": {},
   "outputs": [
    {
     "data": {
      "text/plain": [
       "134"
      ]
     },
     "execution_count": 49,
     "metadata": {},
     "output_type": "execute_result"
    }
   ],
   "source": [
    "#Check the unique number of specialty ids in dataset\n",
    "len(data2.specialty_id.unique())"
   ]
  },
  {
   "cell_type": "code",
   "execution_count": 75,
   "metadata": {},
   "outputs": [
    {
     "data": {
      "text/html": [
       "<div>\n",
       "<style scoped>\n",
       "    .dataframe tbody tr th:only-of-type {\n",
       "        vertical-align: middle;\n",
       "    }\n",
       "\n",
       "    .dataframe tbody tr th {\n",
       "        vertical-align: top;\n",
       "    }\n",
       "\n",
       "    .dataframe thead th {\n",
       "        text-align: right;\n",
       "    }\n",
       "</style>\n",
       "<table border=\"1\" class=\"dataframe\">\n",
       "  <thead>\n",
       "    <tr style=\"text-align: right;\">\n",
       "      <th></th>\n",
       "      <th>specialty_id</th>\n",
       "      <th>count_attorney_id</th>\n",
       "    </tr>\n",
       "  </thead>\n",
       "  <tbody>\n",
       "    <tr>\n",
       "      <th>0</th>\n",
       "      <td>109</td>\n",
       "      <td>90</td>\n",
       "    </tr>\n",
       "    <tr>\n",
       "      <th>1</th>\n",
       "      <td>191</td>\n",
       "      <td>1078</td>\n",
       "    </tr>\n",
       "    <tr>\n",
       "      <th>2</th>\n",
       "      <td>192</td>\n",
       "      <td>14</td>\n",
       "    </tr>\n",
       "    <tr>\n",
       "      <th>3</th>\n",
       "      <td>193</td>\n",
       "      <td>388</td>\n",
       "    </tr>\n",
       "    <tr>\n",
       "      <th>4</th>\n",
       "      <td>194</td>\n",
       "      <td>296</td>\n",
       "    </tr>\n",
       "  </tbody>\n",
       "</table>\n",
       "</div>"
      ],
      "text/plain": [
       "   specialty_id  count_attorney_id\n",
       "0           109                 90\n",
       "1           191               1078\n",
       "2           192                 14\n",
       "3           193                388\n",
       "4           194                296"
      ]
     },
     "execution_count": 75,
     "metadata": {},
     "output_type": "execute_result"
    }
   ],
   "source": [
    "#Create a column to count how many attornies are on a specific specialty id\n",
    "df2 = data2.groupby(\"specialty_id\")[\"attorney_id\"].count().reset_index(name=\"count_attorney_id\")\n",
    "\n",
    "df2.head()"
   ]
  },
  {
   "cell_type": "code",
   "execution_count": 62,
   "metadata": {},
   "outputs": [
    {
     "data": {
      "text/html": [
       "<div>\n",
       "<style scoped>\n",
       "    .dataframe tbody tr th:only-of-type {\n",
       "        vertical-align: middle;\n",
       "    }\n",
       "\n",
       "    .dataframe tbody tr th {\n",
       "        vertical-align: top;\n",
       "    }\n",
       "\n",
       "    .dataframe thead th {\n",
       "        text-align: right;\n",
       "    }\n",
       "</style>\n",
       "<table border=\"1\" class=\"dataframe\">\n",
       "  <thead>\n",
       "    <tr style=\"text-align: right;\">\n",
       "      <th></th>\n",
       "      <th>attorney_id</th>\n",
       "      <th>specialty_id</th>\n",
       "      <th>count_attorney_id</th>\n",
       "    </tr>\n",
       "  </thead>\n",
       "  <tbody>\n",
       "    <tr>\n",
       "      <th>0</th>\n",
       "      <td>100000</td>\n",
       "      <td>218</td>\n",
       "      <td>14780</td>\n",
       "    </tr>\n",
       "    <tr>\n",
       "      <th>1</th>\n",
       "      <td>100001</td>\n",
       "      <td>263</td>\n",
       "      <td>3015</td>\n",
       "    </tr>\n",
       "    <tr>\n",
       "      <th>2</th>\n",
       "      <td>100001</td>\n",
       "      <td>436</td>\n",
       "      <td>3275</td>\n",
       "    </tr>\n",
       "    <tr>\n",
       "      <th>3</th>\n",
       "      <td>100001</td>\n",
       "      <td>218</td>\n",
       "      <td>14780</td>\n",
       "    </tr>\n",
       "    <tr>\n",
       "      <th>4</th>\n",
       "      <td>100001</td>\n",
       "      <td>481</td>\n",
       "      <td>2671</td>\n",
       "    </tr>\n",
       "  </tbody>\n",
       "</table>\n",
       "</div>"
      ],
      "text/plain": [
       "   attorney_id  specialty_id  count_attorney_id\n",
       "0       100000           218              14780\n",
       "1       100001           263               3015\n",
       "2       100001           436               3275\n",
       "3       100001           218              14780\n",
       "4       100001           481               2671"
      ]
     },
     "execution_count": 62,
     "metadata": {},
     "output_type": "execute_result"
    }
   ],
   "source": [
    "df_merge = pd.merge(data2, df2, on=\"specialty_id\", how=\"left\")\n",
    "\n",
    "df_merge.head()"
   ]
  },
  {
   "cell_type": "markdown",
   "metadata": {},
   "source": [
    "<div class=\"alert alert-success\" role=\"alert\">\n",
    "<strong>Please design a process that returns the top 5 recommended practice areas for a given user.</strong> \n",
    "\n",
    "Using a correlation heatmap (pictured above), I would suggest for the product manager to monitor landing pageviews because it trends the most positively with the other metrics, especially with the checkout pageviews -- which drives consumers to likely complete their online purchases."
   ]
  },
  {
   "cell_type": "code",
   "execution_count": null,
   "metadata": {},
   "outputs": [],
   "source": []
  }
 ],
 "metadata": {
  "kernelspec": {
   "display_name": "Python 3",
   "language": "python",
   "name": "python3"
  },
  "language_info": {
   "codemirror_mode": {
    "name": "ipython",
    "version": 3
   },
   "file_extension": ".py",
   "mimetype": "text/x-python",
   "name": "python",
   "nbconvert_exporter": "python",
   "pygments_lexer": "ipython3",
   "version": "3.7.7"
  }
 },
 "nbformat": 4,
 "nbformat_minor": 4
}
